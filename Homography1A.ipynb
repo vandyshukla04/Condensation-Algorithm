{
 "cells": [
  {
   "cell_type": "markdown",
   "metadata": {},
   "source": [
    "Vandita Shukla, Student No - 17141590"
   ]
  },
  {
   "cell_type": "markdown",
   "metadata": {},
   "source": [
    "\n",
    "# Practical 7 - Part 1A\n",
    "\n"
   ]
  },
  {
   "cell_type": "markdown",
   "metadata": {},
   "source": [
    "## Import libraries "
   ]
  },
  {
   "cell_type": "code",
   "execution_count": 3,
   "metadata": {},
   "outputs": [],
   "source": [
    "%matplotlib inline\n",
    "import os \n",
    "import numpy as np\n",
    "import matplotlib.pyplot as plt\n",
    "import scipy.io as sio"
   ]
  },
  {
   "cell_type": "code",
   "execution_count": 4,
   "metadata": {},
   "outputs": [],
   "source": [
    "# Define a set of two-dimensional Cartesian points\n",
    "pts1Cart = np.array([[240.5000, 16.8351, 33.5890, 164.2696, 149.1911],\n",
    "                    [248.8770, 193.5890, 251.3901, 168.4581, 228.7723]])\n",
    "\n",
    "\n",
    "\n",
    "# Convert points into homogeneous representation\n",
    "pts1Hom = np.concatenate((pts1Cart, np.ones((1,pts1Cart.shape[1]))), axis=0)\n",
    "# Define a homography\n",
    "H = np.array([[0.6, 0.7, -100.],\n",
    "              [1.0, 0.6, 50.],\n",
    "              [0.001, 0.002, 1.0]])\n",
    "\n",
    "# Apply a homography to the points\n",
    "pts2Hom = np.matmul(H,pts1Hom)\n",
    "# Convert back to Cartesian coordinates\n",
    "pts2Cart = pts2Hom[0:2,:] / np.tile([pts2Hom[2,:]],(2,1))\n",
    "# Add a small amount of noise. Set this to zero to begin with to see if your homography solution is spot on.\n",
    "noiseLevel = 0.0\n",
    "pts2Cart = pts2Cart + np.random.normal(0, noiseLevel, pts2Cart.shape)\n"
   ]
  },
  {
   "cell_type": "markdown",
   "metadata": {},
   "source": [
    "## Plotting\n",
    "\n",
    "Let's plot the the first original set of points, `pts1Cart`, in blue and the second set of points, `pts2Cart`, in red. "
   ]
  },
  {
   "cell_type": "code",
   "execution_count": 5,
   "metadata": {},
   "outputs": [
    {
     "data": {
      "image/png": "[encoded data removed]",
      "text/plain": [
       "<Figure size 432x288 with 1 Axes>"
      ]
     },
     "metadata": {
      "needs_background": "light"
     },
     "output_type": "display_data"
    }
   ],
   "source": [
    "# Plot a green line between pairs of start points (blue) and transformed points (red).|\n",
    "nPoint = pts1Cart.shape[1]\n",
    "for cPoint in range(0, nPoint):\n",
    "    plt.plot([pts1Cart[0,cPoint], pts2Cart[0,cPoint]], [pts1Cart[1,cPoint], pts2Cart[1,cPoint]],'g-')\n",
    "    plt.plot(pts1Cart[0,cPoint],pts1Cart[1,cPoint],'b.', pts2Cart[0,cPoint],pts2Cart[1,cPoint],'r.') \n",
    "\n",
    "plt.show()"
   ]
  },
  {
   "cell_type": "markdown",
   "metadata": {},
   "source": [
    "## Homography estimation time!\n",
    "\n",
    "We've formulated our test example; now our goal is to estimate the homography that maps the first set of points to the second set of points.\n"
   ]
  },
  {
   "cell_type": "code",
   "execution_count": 6,
   "metadata": {},
   "outputs": [],
   "source": [
    "def solveAXEqualsZero(A):\n",
    "    \n",
    "    [U,L,Vh]=np.linalg.svd(A,full_matrices=True)\n",
    "    V=np.transpose(Vh)\n",
    "    [x, y]=np.shape(V)\n",
    "    h=np.zeros([x,1])\n",
    "    h=V[:,y-1]\n",
    "    return h"
   ]
  },
  {
   "cell_type": "code",
   "execution_count": 7,
   "metadata": {},
   "outputs": [],
   "source": [
    "def calcBestHomography(pts1Cart, pts2Cart):\n",
    "    \n",
    "    # This function should apply the direct linear transform (DLT) algorithm to calculate the best \n",
    "    # homography that maps the cartesian points in pts1Cart to their corresonding matching cartesian poitns \n",
    "    # in pts2Cart.\n",
    "    \n",
    "    # This function calls solveAXEqualsZero. Vandita remember to be wary of how to reshape h into a 3 by 3 matrix. \n",
    "\n",
    "    n_points = pts1Cart.shape[1]\n",
    "    \n",
    "    # TO DO: replace this:\n",
    "    H = np.identity(3)\n",
    "    pts1Hom = np.concatenate((pts1Cart, np.ones((1,pts1Cart.shape[1]))), axis=0)\n",
    "    pts2Hom = np.concatenate((pts2Cart, np.ones((1,pts2Cart.shape[1]))), axis=0)\n",
    "    # Then construct the matrix A, size (n_points * 2, 9)\n",
    "    # Consult the notes!\n",
    "    A = np.zeros([n_points*2,9])\n",
    "    \n",
    "    for i in range(n_points):\n",
    "               \n",
    "        A[i*2,:]=[0,0,0,-pts2Hom[0,i],-pts2Hom[1,i],-1,pts1Hom[1,i]*pts2Hom[0,i],pts1Hom[1,i]*pts2Hom[1,i],pts1Hom[1,i]]\n",
    "        A[((i*2)+1),:]=[pts2Hom[0,i],pts2Hom[1,i],1,0,0,0,-pts1Hom[0,i]*pts2Hom[0,i],-pts1Hom[0,i]*pts2Hom[1,i],-pts1Hom[0,i]]\n",
    "    # Solve Ah = 0 using solveAXEqualsZero and get h.\n",
    "    \n",
    "    h = solveAXEqualsZero(A)\n",
    "    # Reshape h into the matrix H, values of h go first into rows of H\n",
    "    print(h.shape)\n",
    "    H = np.reshape(h,(3,3))\n",
    "    #H[0,:]=[h[0,],h[1,],h[2,]]\n",
    "    #H[1,:]=[h[3,],h[4,],h[5,]]\n",
    "    #H[2,:]=[h[6,],h[7,],h[8,]]\n",
    "    print(H)\n",
    "    return H"
   ]
  },
  {
   "cell_type": "markdown",
   "metadata": {},
   "source": [
    "## Test time!\n",
    "\n",
    "Time to put it all together. \n",
    "\n",
    "Now we need a way of measuring how well our mapping does. To do this we will apply our estimated mapping, `HEst`, to `pts1Cart` and obtain estimated points `pts2EstCart`. We will compare `pts2EstCart` and `pts2Cart` using a sum of squared difference to see how well our solution at least approximates the transformed noisy points `pts2Cart`.\n",
    "\n",
    "Red points on the plot are the noisy points we observe, `pts2Cart`, and the magenta points are the transformed points, `pts2EstCart`, that we get when we apply our estimated homography on `pts1Cart`. The black lines represent the error between both points; if you've set `noiseLevel` to 0, then `sqDiff` should be 0 and the points should overlap perfectly."
   ]
  },
  {
   "cell_type": "code",
   "execution_count": 8,
   "metadata": {},
   "outputs": [
    {
     "name": "stdout",
     "output_type": "stream",
     "text": [
      "(9,)\n",
      "[[ 5.36587421e-03  6.26018658e-03 -8.94312369e-01]\n",
      " [ 8.94312368e-03  5.36587421e-03  4.47156184e-01]\n",
      " [ 8.94312368e-06  1.78862474e-05  8.94312368e-03]]\n",
      "Sqaured difference between pts2Cart and pts2EstCart is: 0.00\n"
     ]
    },
    {
     "data": {
      "image/png": "[encoded data removed]",
      "text/plain": [
       "<Figure size 432x288 with 1 Axes>"
      ]
     },
     "metadata": {
      "needs_background": "light"
     },
     "output_type": "display_data"
    }
   ],
   "source": [
    "# Replace this with a call to the function calcBestHomography. \n",
    "HEst = calcBestHomography(pts2Cart,pts1Cart)\n",
    "\n",
    "# Apply estimated homography to points\n",
    "pts2EstHom = np.matmul(HEst,pts1Hom)\n",
    "\n",
    "# Convert back to Cartesian coordinates\n",
    "pts2EstCart = pts2EstHom[0:2,:] / np.tile([pts2EstHom[2,:]],(2,1))\n",
    "\n",
    "# Calculate the mean squared distance from actual points\n",
    "sqDiff = np.mean(sum((pts2Cart - pts2EstCart)**2))\n",
    "\n",
    "print(\"Sqaured difference between pts2Cart and pts2EstCart is: %.2f\" % sqDiff)\n",
    "\n",
    "# Draw figure with points before and after applying the estimated homography\n",
    "nPoint = pts1Cart.shape[1]\n",
    "\n",
    "# Plot a black line between pairs of actual points (red) and estimated points (magenta)\n",
    "for cPoint in range(0, nPoint):\n",
    "    plt.plot([pts2Cart[0,cPoint], pts2EstCart[0,cPoint]], [pts2Cart[1,cPoint], pts2EstCart[1,cPoint]],'k-')\n",
    "    plt.plot(pts2Cart[0,cPoint],pts2Cart[1,cPoint],'r.',pts2EstCart[0,cPoint],pts2EstCart[1,cPoint],'m.') \n",
    "\n",
    "plt.show()"
   ]
  },
  {
   "cell_type": "markdown",
   "metadata": {},
   "source": [
    "Homography calculated here using calcBestHomography(pts1,pts2) calculates it in the following order-> It finds the homography matrix which if multiplied to pts2 (second argument of the function) maps to pts1. I kept that order in mind. As seen above on calling calcBestHomography(pts2cart, pts1cart) in that order we get a homography that maps the latter argument to the previous argument pts2cart. This mapping without noise gives an exact overlap of magenta over red which are the points of pts2cart."
   ]
  },
  {
   "cell_type": "markdown",
   "metadata": {},
   "source": []
  },
  {
   "cell_type": "code",
   "execution_count": null,
   "metadata": {},
   "outputs": [],
   "source": []
  }
 ],
 "metadata": {
  "kernelspec": {
   "display_name": "Python 3",
   "language": "python",
   "name": "python3"
  },
  "language_info": {
   "codemirror_mode": {
    "name": "ipython",
    "version": 3
   },
   "file_extension": ".py",
   "mimetype": "text/x-python",
   "name": "python",
   "nbconvert_exporter": "python",
   "pygments_lexer": "ipython3",
   "version": "3.8.3"
  }
 },
 "nbformat": 4,
 "nbformat_minor": 1
}
